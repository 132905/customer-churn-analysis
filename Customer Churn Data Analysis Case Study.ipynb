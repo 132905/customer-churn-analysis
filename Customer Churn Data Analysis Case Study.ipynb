{
 "cells": [
  {
   "cell_type": "code",
   "execution_count": 1,
   "id": "7ad7dda1-6bd3-44a9-9a3f-ab74308c0c06",
   "metadata": {},
   "outputs": [],
   "source": [
    "import numpy as np\n",
    "import pandas as pd"
   ]
  },
  {
   "cell_type": "code",
   "execution_count": 2,
   "id": "d5aed19e-731a-4442-b956-ac7775f31021",
   "metadata": {},
   "outputs": [],
   "source": [
    "df = pd.read_csv(r\"churn.csv\")"
   ]
  },
  {
   "cell_type": "markdown",
   "id": "25a6ecc7-f0bf-48eb-b5eb-5f8d674f3907",
   "metadata": {},
   "source": [
    "## 📂 1. Data Loading and Preparation"
   ]
  },
  {
   "cell_type": "markdown",
   "id": "dd1b3ed1-d046-4e69-849c-c27981e4fedf",
   "metadata": {},
   "source": [
    "Q1. Load the dataset into a pandas DataFrame. Print the first 5 rows and display the data types of all columns."
   ]
  },
  {
   "cell_type": "code",
   "execution_count": 4,
   "id": "35cdc351-9f54-4e01-bb38-16802cc90d88",
   "metadata": {},
   "outputs": [
    {
     "data": {
      "text/html": [
       "<div>\n",
       "<style scoped>\n",
       "    .dataframe tbody tr th:only-of-type {\n",
       "        vertical-align: middle;\n",
       "    }\n",
       "\n",
       "    .dataframe tbody tr th {\n",
       "        vertical-align: top;\n",
       "    }\n",
       "\n",
       "    .dataframe thead th {\n",
       "        text-align: right;\n",
       "    }\n",
       "</style>\n",
       "<table border=\"1\" class=\"dataframe\">\n",
       "  <thead>\n",
       "    <tr style=\"text-align: right;\">\n",
       "      <th></th>\n",
       "      <th>RowNumber</th>\n",
       "      <th>CustomerId</th>\n",
       "      <th>Surname</th>\n",
       "      <th>CreditScore</th>\n",
       "      <th>Geography</th>\n",
       "      <th>Gender</th>\n",
       "      <th>Age</th>\n",
       "      <th>Tenure</th>\n",
       "      <th>Balance</th>\n",
       "      <th>NumOfProducts</th>\n",
       "      <th>HasCrCard</th>\n",
       "      <th>IsActiveMember</th>\n",
       "      <th>EstimatedSalary</th>\n",
       "      <th>Exited</th>\n",
       "    </tr>\n",
       "  </thead>\n",
       "  <tbody>\n",
       "    <tr>\n",
       "      <th>0</th>\n",
       "      <td>1</td>\n",
       "      <td>15634602</td>\n",
       "      <td>Hargrave</td>\n",
       "      <td>619</td>\n",
       "      <td>France</td>\n",
       "      <td>Female</td>\n",
       "      <td>42</td>\n",
       "      <td>2</td>\n",
       "      <td>0.00</td>\n",
       "      <td>1</td>\n",
       "      <td>1</td>\n",
       "      <td>1</td>\n",
       "      <td>101348.88</td>\n",
       "      <td>1</td>\n",
       "    </tr>\n",
       "    <tr>\n",
       "      <th>1</th>\n",
       "      <td>2</td>\n",
       "      <td>15647311</td>\n",
       "      <td>Hill</td>\n",
       "      <td>608</td>\n",
       "      <td>Spain</td>\n",
       "      <td>Female</td>\n",
       "      <td>41</td>\n",
       "      <td>1</td>\n",
       "      <td>83807.86</td>\n",
       "      <td>1</td>\n",
       "      <td>0</td>\n",
       "      <td>1</td>\n",
       "      <td>112542.58</td>\n",
       "      <td>0</td>\n",
       "    </tr>\n",
       "    <tr>\n",
       "      <th>2</th>\n",
       "      <td>3</td>\n",
       "      <td>15619304</td>\n",
       "      <td>Onio</td>\n",
       "      <td>502</td>\n",
       "      <td>France</td>\n",
       "      <td>Female</td>\n",
       "      <td>42</td>\n",
       "      <td>8</td>\n",
       "      <td>159660.80</td>\n",
       "      <td>3</td>\n",
       "      <td>1</td>\n",
       "      <td>0</td>\n",
       "      <td>113931.57</td>\n",
       "      <td>1</td>\n",
       "    </tr>\n",
       "    <tr>\n",
       "      <th>3</th>\n",
       "      <td>4</td>\n",
       "      <td>15701354</td>\n",
       "      <td>Boni</td>\n",
       "      <td>699</td>\n",
       "      <td>France</td>\n",
       "      <td>Female</td>\n",
       "      <td>39</td>\n",
       "      <td>1</td>\n",
       "      <td>0.00</td>\n",
       "      <td>2</td>\n",
       "      <td>0</td>\n",
       "      <td>0</td>\n",
       "      <td>93826.63</td>\n",
       "      <td>0</td>\n",
       "    </tr>\n",
       "    <tr>\n",
       "      <th>4</th>\n",
       "      <td>5</td>\n",
       "      <td>15737888</td>\n",
       "      <td>Mitchell</td>\n",
       "      <td>850</td>\n",
       "      <td>Spain</td>\n",
       "      <td>Female</td>\n",
       "      <td>43</td>\n",
       "      <td>2</td>\n",
       "      <td>125510.82</td>\n",
       "      <td>1</td>\n",
       "      <td>1</td>\n",
       "      <td>1</td>\n",
       "      <td>79084.10</td>\n",
       "      <td>0</td>\n",
       "    </tr>\n",
       "  </tbody>\n",
       "</table>\n",
       "</div>"
      ],
      "text/plain": [
       "   RowNumber  CustomerId   Surname  CreditScore Geography  Gender  Age  \\\n",
       "0          1    15634602  Hargrave          619    France  Female   42   \n",
       "1          2    15647311      Hill          608     Spain  Female   41   \n",
       "2          3    15619304      Onio          502    France  Female   42   \n",
       "3          4    15701354      Boni          699    France  Female   39   \n",
       "4          5    15737888  Mitchell          850     Spain  Female   43   \n",
       "\n",
       "   Tenure    Balance  NumOfProducts  HasCrCard  IsActiveMember  \\\n",
       "0       2       0.00              1          1               1   \n",
       "1       1   83807.86              1          0               1   \n",
       "2       8  159660.80              3          1               0   \n",
       "3       1       0.00              2          0               0   \n",
       "4       2  125510.82              1          1               1   \n",
       "\n",
       "   EstimatedSalary  Exited  \n",
       "0        101348.88       1  \n",
       "1        112542.58       0  \n",
       "2        113931.57       1  \n",
       "3         93826.63       0  \n",
       "4         79084.10       0  "
      ]
     },
     "execution_count": 4,
     "metadata": {},
     "output_type": "execute_result"
    }
   ],
   "source": [
    "df.head()"
   ]
  },
  {
   "cell_type": "code",
   "execution_count": 9,
   "id": "1bb59790-4707-404d-b4ef-90c643e4ce6d",
   "metadata": {},
   "outputs": [
    {
     "data": {
      "text/plain": [
       "RowNumber            int64\n",
       "CustomerId           int64\n",
       "Surname             object\n",
       "CreditScore          int64\n",
       "Geography           object\n",
       "Gender              object\n",
       "Age                  int64\n",
       "Tenure               int64\n",
       "Balance            float64\n",
       "NumOfProducts        int64\n",
       "HasCrCard            int64\n",
       "IsActiveMember       int64\n",
       "EstimatedSalary    float64\n",
       "Exited               int64\n",
       "dtype: object"
      ]
     },
     "execution_count": 9,
     "metadata": {},
     "output_type": "execute_result"
    }
   ],
   "source": [
    "df.dtypes"
   ]
  },
  {
   "cell_type": "markdown",
   "id": "761c9b6e-75a1-487e-9d86-26e08de0cfbd",
   "metadata": {},
   "source": [
    "Q2. Check for any missing or duplicate records in the dataset. How many are there?"
   ]
  },
  {
   "cell_type": "code",
   "execution_count": 10,
   "id": "345d3a5a-353a-4b79-8c66-1b9d669aa1e7",
   "metadata": {},
   "outputs": [
    {
     "data": {
      "text/plain": [
       "RowNumber          0\n",
       "CustomerId         0\n",
       "Surname            0\n",
       "CreditScore        0\n",
       "Geography          0\n",
       "Gender             0\n",
       "Age                0\n",
       "Tenure             0\n",
       "Balance            0\n",
       "NumOfProducts      0\n",
       "HasCrCard          0\n",
       "IsActiveMember     0\n",
       "EstimatedSalary    0\n",
       "Exited             0\n",
       "dtype: int64"
      ]
     },
     "execution_count": 10,
     "metadata": {},
     "output_type": "execute_result"
    }
   ],
   "source": [
    "df.isna().sum()"
   ]
  },
  {
   "cell_type": "code",
   "execution_count": 11,
   "id": "c1fc26f7-5838-455d-966f-f2b14118ca19",
   "metadata": {},
   "outputs": [
    {
     "data": {
      "text/plain": [
       "0"
      ]
     },
     "execution_count": 11,
     "metadata": {},
     "output_type": "execute_result"
    }
   ],
   "source": [
    "df.duplicated().sum()"
   ]
  },
  {
   "cell_type": "markdown",
   "id": "eab257bf-30b6-4cdf-bd71-a8c9a92a1ce1",
   "metadata": {},
   "source": [
    "Q3. Convert the categorical columns Geography and Gender into appropriate numerical formats using label encoding or one-hot encoding."
   ]
  },
  {
   "cell_type": "code",
   "execution_count": 17,
   "id": "7743d601-1492-4847-9bf3-1d410f2017e1",
   "metadata": {},
   "outputs": [
    {
     "data": {
      "text/html": [
       "<div>\n",
       "<style scoped>\n",
       "    .dataframe tbody tr th:only-of-type {\n",
       "        vertical-align: middle;\n",
       "    }\n",
       "\n",
       "    .dataframe tbody tr th {\n",
       "        vertical-align: top;\n",
       "    }\n",
       "\n",
       "    .dataframe thead th {\n",
       "        text-align: right;\n",
       "    }\n",
       "</style>\n",
       "<table border=\"1\" class=\"dataframe\">\n",
       "  <thead>\n",
       "    <tr style=\"text-align: right;\">\n",
       "      <th></th>\n",
       "      <th>Geography_France</th>\n",
       "      <th>Geography_Germany</th>\n",
       "      <th>Geography_Spain</th>\n",
       "      <th>Gender_Female</th>\n",
       "      <th>Gender_Male</th>\n",
       "    </tr>\n",
       "  </thead>\n",
       "  <tbody>\n",
       "    <tr>\n",
       "      <th>0</th>\n",
       "      <td>1</td>\n",
       "      <td>0</td>\n",
       "      <td>0</td>\n",
       "      <td>1</td>\n",
       "      <td>0</td>\n",
       "    </tr>\n",
       "    <tr>\n",
       "      <th>1</th>\n",
       "      <td>0</td>\n",
       "      <td>0</td>\n",
       "      <td>1</td>\n",
       "      <td>1</td>\n",
       "      <td>0</td>\n",
       "    </tr>\n",
       "    <tr>\n",
       "      <th>2</th>\n",
       "      <td>1</td>\n",
       "      <td>0</td>\n",
       "      <td>0</td>\n",
       "      <td>1</td>\n",
       "      <td>0</td>\n",
       "    </tr>\n",
       "    <tr>\n",
       "      <th>3</th>\n",
       "      <td>1</td>\n",
       "      <td>0</td>\n",
       "      <td>0</td>\n",
       "      <td>1</td>\n",
       "      <td>0</td>\n",
       "    </tr>\n",
       "    <tr>\n",
       "      <th>4</th>\n",
       "      <td>0</td>\n",
       "      <td>0</td>\n",
       "      <td>1</td>\n",
       "      <td>1</td>\n",
       "      <td>0</td>\n",
       "    </tr>\n",
       "    <tr>\n",
       "      <th>...</th>\n",
       "      <td>...</td>\n",
       "      <td>...</td>\n",
       "      <td>...</td>\n",
       "      <td>...</td>\n",
       "      <td>...</td>\n",
       "    </tr>\n",
       "    <tr>\n",
       "      <th>9995</th>\n",
       "      <td>1</td>\n",
       "      <td>0</td>\n",
       "      <td>0</td>\n",
       "      <td>0</td>\n",
       "      <td>1</td>\n",
       "    </tr>\n",
       "    <tr>\n",
       "      <th>9996</th>\n",
       "      <td>1</td>\n",
       "      <td>0</td>\n",
       "      <td>0</td>\n",
       "      <td>0</td>\n",
       "      <td>1</td>\n",
       "    </tr>\n",
       "    <tr>\n",
       "      <th>9997</th>\n",
       "      <td>1</td>\n",
       "      <td>0</td>\n",
       "      <td>0</td>\n",
       "      <td>1</td>\n",
       "      <td>0</td>\n",
       "    </tr>\n",
       "    <tr>\n",
       "      <th>9998</th>\n",
       "      <td>0</td>\n",
       "      <td>1</td>\n",
       "      <td>0</td>\n",
       "      <td>0</td>\n",
       "      <td>1</td>\n",
       "    </tr>\n",
       "    <tr>\n",
       "      <th>9999</th>\n",
       "      <td>1</td>\n",
       "      <td>0</td>\n",
       "      <td>0</td>\n",
       "      <td>1</td>\n",
       "      <td>0</td>\n",
       "    </tr>\n",
       "  </tbody>\n",
       "</table>\n",
       "<p>10000 rows × 5 columns</p>\n",
       "</div>"
      ],
      "text/plain": [
       "      Geography_France  Geography_Germany  Geography_Spain  Gender_Female  \\\n",
       "0                    1                  0                0              1   \n",
       "1                    0                  0                1              1   \n",
       "2                    1                  0                0              1   \n",
       "3                    1                  0                0              1   \n",
       "4                    0                  0                1              1   \n",
       "...                ...                ...              ...            ...   \n",
       "9995                 1                  0                0              0   \n",
       "9996                 1                  0                0              0   \n",
       "9997                 1                  0                0              1   \n",
       "9998                 0                  1                0              0   \n",
       "9999                 1                  0                0              1   \n",
       "\n",
       "      Gender_Male  \n",
       "0               0  \n",
       "1               0  \n",
       "2               0  \n",
       "3               0  \n",
       "4               0  \n",
       "...           ...  \n",
       "9995            1  \n",
       "9996            1  \n",
       "9997            0  \n",
       "9998            1  \n",
       "9999            0  \n",
       "\n",
       "[10000 rows x 5 columns]"
      ]
     },
     "execution_count": 17,
     "metadata": {},
     "output_type": "execute_result"
    }
   ],
   "source": [
    "pd.get_dummies(df[['Geography','Gender']])"
   ]
  },
  {
   "cell_type": "markdown",
   "id": "4585ab91-8ed6-473e-98d4-b9b557482960",
   "metadata": {},
   "source": [
    "## 📊 2. Churn Rate Analysis"
   ]
  },
  {
   "cell_type": "markdown",
   "id": "f8ce419e-1eca-4e45-856c-c718508f42cc",
   "metadata": {},
   "source": [
    "Q4. Calculate the overall churn rate in the dataset. Display both the count and the percentage of customers who exited."
   ]
  },
  {
   "cell_type": "markdown",
   "id": "78a54f3d-6345-4f46-b95b-45a396763fbd",
   "metadata": {},
   "source": [
    "Churn rate = No.of exited/ Total no.of customers"
   ]
  },
  {
   "cell_type": "code",
   "execution_count": 37,
   "id": "83e0acac-86d5-45c4-aca7-aeb892ce04aa",
   "metadata": {},
   "outputs": [
    {
     "name": "stdout",
     "output_type": "stream",
     "text": [
      "\n",
      "Count of the customers who exited: 2037\n"
     ]
    }
   ],
   "source": [
    "num_of_exited = df.Exited.sum()\n",
    "num_of_exited\n",
    "print(f\"\\nCount of the customers who exited: {num_of_exited}\")"
   ]
  },
  {
   "cell_type": "code",
   "execution_count": 40,
   "id": "3d4720eb-e8b3-4466-848b-2178d0a27953",
   "metadata": {},
   "outputs": [
    {
     "name": "stdout",
     "output_type": "stream",
     "text": [
      "Percentage of customers who exited: 20.37%\n"
     ]
    }
   ],
   "source": [
    "pct_of_exited = num_of_exited/df.shape[0]*100\n",
    "pct_of_exited.round(2)\n",
    "print(f'Percentage of customers who exited: {pct_of_exited.round(2)}%')"
   ]
  },
  {
   "cell_type": "code",
   "execution_count": 41,
   "id": "54c55175-29a3-4240-becb-1606e94900d7",
   "metadata": {},
   "outputs": [
    {
     "name": "stdout",
     "output_type": "stream",
     "text": [
      "Percentage of customers who exited: 20.37%\n"
     ]
    }
   ],
   "source": [
    "print(f'Percentage of customers who exited: {(df.Exited.mean()*100).round(2)}%')"
   ]
  },
  {
   "cell_type": "markdown",
   "id": "17d97963-6074-4381-aad1-56a8228d7795",
   "metadata": {},
   "source": [
    "Q5. Group the data by Geography and calculate the churn rate for each country. Sort the result by churn rate in descending order."
   ]
  },
  {
   "cell_type": "code",
   "execution_count": 47,
   "id": "a7edc0dd-dceb-404a-ab25-51b0fb2467f8",
   "metadata": {},
   "outputs": [
    {
     "name": "stdout",
     "output_type": "stream",
     "text": [
      "\n",
      "Churn rate for each country:\n"
     ]
    },
    {
     "data": {
      "text/html": [
       "<div>\n",
       "<style scoped>\n",
       "    .dataframe tbody tr th:only-of-type {\n",
       "        vertical-align: middle;\n",
       "    }\n",
       "\n",
       "    .dataframe tbody tr th {\n",
       "        vertical-align: top;\n",
       "    }\n",
       "\n",
       "    .dataframe thead th {\n",
       "        text-align: right;\n",
       "    }\n",
       "</style>\n",
       "<table border=\"1\" class=\"dataframe\">\n",
       "  <thead>\n",
       "    <tr style=\"text-align: right;\">\n",
       "      <th></th>\n",
       "      <th>Geography</th>\n",
       "      <th>Exited</th>\n",
       "    </tr>\n",
       "  </thead>\n",
       "  <tbody>\n",
       "    <tr>\n",
       "      <th>0</th>\n",
       "      <td>Germany</td>\n",
       "      <td>32.443204</td>\n",
       "    </tr>\n",
       "    <tr>\n",
       "      <th>1</th>\n",
       "      <td>Spain</td>\n",
       "      <td>16.673395</td>\n",
       "    </tr>\n",
       "    <tr>\n",
       "      <th>2</th>\n",
       "      <td>France</td>\n",
       "      <td>16.154767</td>\n",
       "    </tr>\n",
       "  </tbody>\n",
       "</table>\n",
       "</div>"
      ],
      "text/plain": [
       "  Geography     Exited\n",
       "0   Germany  32.443204\n",
       "1     Spain  16.673395\n",
       "2    France  16.154767"
      ]
     },
     "execution_count": 47,
     "metadata": {},
     "output_type": "execute_result"
    }
   ],
   "source": [
    "print('\\nChurn rate for each country:')\n",
    "(df.groupby('Geography').Exited.mean()*100).sort_values(ascending=False).reset_index()"
   ]
  },
  {
   "cell_type": "markdown",
   "id": "c959ef05-09f5-46cc-80b3-dc63b2fe663d",
   "metadata": {},
   "source": [
    "## 👥 3. Demographics and Churn"
   ]
  },
  {
   "cell_type": "markdown",
   "id": "ccbf0e98-09fb-4d3c-9fef-8935c41396e5",
   "metadata": {},
   "source": [
    "Q6. What is the average age of customers who churned versus those who did not? Provide a comparison summary."
   ]
  },
  {
   "cell_type": "code",
   "execution_count": 50,
   "id": "b44d61f0-0c09-4aa1-969e-999ae3d37359",
   "metadata": {},
   "outputs": [
    {
     "name": "stdout",
     "output_type": "stream",
     "text": [
      "\n",
      "The average age of customers who churned versus those who did not is:\n"
     ]
    },
    {
     "data": {
      "text/html": [
       "<div>\n",
       "<style scoped>\n",
       "    .dataframe tbody tr th:only-of-type {\n",
       "        vertical-align: middle;\n",
       "    }\n",
       "\n",
       "    .dataframe tbody tr th {\n",
       "        vertical-align: top;\n",
       "    }\n",
       "\n",
       "    .dataframe thead th {\n",
       "        text-align: right;\n",
       "    }\n",
       "</style>\n",
       "<table border=\"1\" class=\"dataframe\">\n",
       "  <thead>\n",
       "    <tr style=\"text-align: right;\">\n",
       "      <th></th>\n",
       "      <th>Exited</th>\n",
       "      <th>Age</th>\n",
       "    </tr>\n",
       "  </thead>\n",
       "  <tbody>\n",
       "    <tr>\n",
       "      <th>0</th>\n",
       "      <td>0</td>\n",
       "      <td>37.408389</td>\n",
       "    </tr>\n",
       "    <tr>\n",
       "      <th>1</th>\n",
       "      <td>1</td>\n",
       "      <td>44.837997</td>\n",
       "    </tr>\n",
       "  </tbody>\n",
       "</table>\n",
       "</div>"
      ],
      "text/plain": [
       "   Exited        Age\n",
       "0       0  37.408389\n",
       "1       1  44.837997"
      ]
     },
     "execution_count": 50,
     "metadata": {},
     "output_type": "execute_result"
    }
   ],
   "source": [
    "print('\\nThe average age of customers who churned versus those who did not is:')\n",
    "df.groupby('Exited').Age.mean().reset_index()"
   ]
  },
  {
   "cell_type": "markdown",
   "id": "b059dc4b-187c-4e34-8b26-b38603d9e211",
   "metadata": {},
   "source": [
    "Q7. Determine what percentage of churned customers are aged over 45. Compare it to their overall percentage in the dataset."
   ]
  },
  {
   "cell_type": "code",
   "execution_count": 68,
   "id": "8e22b3b2-499f-4d62-9483-199969cfdbf9",
   "metadata": {},
   "outputs": [
    {
     "name": "stdout",
     "output_type": "stream",
     "text": [
      "Percentage of churned customers aged over 45: 46.98%\n"
     ]
    }
   ],
   "source": [
    "total_churned = df.Exited.sum()\n",
    "churned_over_45=df[(df['Exited']==1) & (df['Age']>45)].Exited.sum()\n",
    "pct_churned_over_45 = (churned_over_45/total_churned*100).round(2)\n",
    "print(f'Percentage of churned customers aged over 45: {pct_churned_over_45}%')"
   ]
  },
  {
   "cell_type": "code",
   "execution_count": 81,
   "id": "fb139801-1688-4692-9746-8bf97708de25",
   "metadata": {},
   "outputs": [
    {
     "name": "stdout",
     "output_type": "stream",
     "text": [
      "Percentage of customers aged over 45: 21.11%\n"
     ]
    }
   ],
   "source": [
    "over_45 = df[df['Age']>45].shape[0]\n",
    "pct_over_45 = (over_45/df.shape[0]*100)\n",
    "print(f'Percentage of customers aged over 45: {pct_over_45}%')"
   ]
  },
  {
   "cell_type": "markdown",
   "id": "e94b2d9f-c51b-487a-aae4-09b8c568787d",
   "metadata": {},
   "source": [
    "Q8. Analyze churn rate by Gender. Do males or females churn more?"
   ]
  },
  {
   "cell_type": "code",
   "execution_count": 84,
   "id": "63bb83ec-ea4e-4e46-aae6-57f7dcd3f06d",
   "metadata": {},
   "outputs": [
    {
     "data": {
      "text/html": [
       "<div>\n",
       "<style scoped>\n",
       "    .dataframe tbody tr th:only-of-type {\n",
       "        vertical-align: middle;\n",
       "    }\n",
       "\n",
       "    .dataframe tbody tr th {\n",
       "        vertical-align: top;\n",
       "    }\n",
       "\n",
       "    .dataframe thead th {\n",
       "        text-align: right;\n",
       "    }\n",
       "</style>\n",
       "<table border=\"1\" class=\"dataframe\">\n",
       "  <thead>\n",
       "    <tr style=\"text-align: right;\">\n",
       "      <th></th>\n",
       "      <th>Gender</th>\n",
       "      <th>Exited</th>\n",
       "    </tr>\n",
       "  </thead>\n",
       "  <tbody>\n",
       "    <tr>\n",
       "      <th>0</th>\n",
       "      <td>Female</td>\n",
       "      <td>25.072</td>\n",
       "    </tr>\n",
       "    <tr>\n",
       "      <th>1</th>\n",
       "      <td>Male</td>\n",
       "      <td>16.456</td>\n",
       "    </tr>\n",
       "  </tbody>\n",
       "</table>\n",
       "</div>"
      ],
      "text/plain": [
       "   Gender  Exited\n",
       "0  Female  25.072\n",
       "1    Male  16.456"
      ]
     },
     "execution_count": 84,
     "metadata": {},
     "output_type": "execute_result"
    }
   ],
   "source": [
    "(df.groupby('Gender').Exited.mean()*100).round(3).reset_index()"
   ]
  },
  {
   "cell_type": "markdown",
   "id": "1b6c6ea8-ddf9-490f-bb00-4fb1f99533e3",
   "metadata": {},
   "source": [
    "## 🏦 4. Product & Account Insights"
   ]
  },
  {
   "cell_type": "markdown",
   "id": "45d60a62-3e42-465c-9d63-fe8672b70cc1",
   "metadata": {},
   "source": [
    "Q9. Analyze the churn rate based on NumOfProducts. Create a summary table showing churn rate for 1, 2, 3, and 4 products."
   ]
  },
  {
   "cell_type": "code",
   "execution_count": 87,
   "id": "838aec68-d6da-4ec5-b437-5b26ec4ce629",
   "metadata": {},
   "outputs": [
    {
     "data": {
      "text/html": [
       "<div>\n",
       "<style scoped>\n",
       "    .dataframe tbody tr th:only-of-type {\n",
       "        vertical-align: middle;\n",
       "    }\n",
       "\n",
       "    .dataframe tbody tr th {\n",
       "        vertical-align: top;\n",
       "    }\n",
       "\n",
       "    .dataframe thead th {\n",
       "        text-align: right;\n",
       "    }\n",
       "</style>\n",
       "<table border=\"1\" class=\"dataframe\">\n",
       "  <thead>\n",
       "    <tr style=\"text-align: right;\">\n",
       "      <th></th>\n",
       "      <th>NumOfProducts</th>\n",
       "      <th>Exited</th>\n",
       "    </tr>\n",
       "  </thead>\n",
       "  <tbody>\n",
       "    <tr>\n",
       "      <th>0</th>\n",
       "      <td>1</td>\n",
       "      <td>27.71</td>\n",
       "    </tr>\n",
       "    <tr>\n",
       "      <th>1</th>\n",
       "      <td>2</td>\n",
       "      <td>7.58</td>\n",
       "    </tr>\n",
       "    <tr>\n",
       "      <th>2</th>\n",
       "      <td>3</td>\n",
       "      <td>82.71</td>\n",
       "    </tr>\n",
       "    <tr>\n",
       "      <th>3</th>\n",
       "      <td>4</td>\n",
       "      <td>100.00</td>\n",
       "    </tr>\n",
       "  </tbody>\n",
       "</table>\n",
       "</div>"
      ],
      "text/plain": [
       "   NumOfProducts  Exited\n",
       "0              1   27.71\n",
       "1              2    7.58\n",
       "2              3   82.71\n",
       "3              4  100.00"
      ]
     },
     "execution_count": 87,
     "metadata": {},
     "output_type": "execute_result"
    }
   ],
   "source": [
    "(df.groupby('NumOfProducts').Exited.mean()*100).round(2).reset_index()"
   ]
  },
  {
   "cell_type": "markdown",
   "id": "ca9e35a3-46b5-4d6c-896e-2ba28d9d4f0b",
   "metadata": {},
   "source": [
    "Q10. Among customers with a Balance of zero, what percentage have exited the bank?"
   ]
  },
  {
   "cell_type": "code",
   "execution_count": 102,
   "id": "54e27c30-2c2b-48f7-9f00-3b2e830be98c",
   "metadata": {},
   "outputs": [
    {
     "name": "stdout",
     "output_type": "stream",
     "text": [
      "Percentage of cutomers having zero balance and exited: 13.82 %\n"
     ]
    }
   ],
   "source": [
    "total_num_bal_0 = df[df.Balance == 0.00].shape[0]\n",
    "num_exited_bal_0 = df[(df.Balance == 0.00) & (df.Exited == 1)].shape[0]\n",
    "pct = num_exited_bal_0/total_num_bal_0*100\n",
    "print(f'Percentage of cutomers having zero balance and exited: {pct:.2f} %')"
   ]
  },
  {
   "cell_type": "markdown",
   "id": "537b3f08-66a3-4687-8703-6c86d1687131",
   "metadata": {},
   "source": [
    "Q11. What is the average tenure of customers who churned compared to those who didn’t?"
   ]
  },
  {
   "cell_type": "code",
   "execution_count": 104,
   "id": "6d99141b-03a6-495c-a852-a2c7f57b9a18",
   "metadata": {},
   "outputs": [
    {
     "data": {
      "text/html": [
       "<div>\n",
       "<style scoped>\n",
       "    .dataframe tbody tr th:only-of-type {\n",
       "        vertical-align: middle;\n",
       "    }\n",
       "\n",
       "    .dataframe tbody tr th {\n",
       "        vertical-align: top;\n",
       "    }\n",
       "\n",
       "    .dataframe thead th {\n",
       "        text-align: right;\n",
       "    }\n",
       "</style>\n",
       "<table border=\"1\" class=\"dataframe\">\n",
       "  <thead>\n",
       "    <tr style=\"text-align: right;\">\n",
       "      <th></th>\n",
       "      <th>Exited</th>\n",
       "      <th>Tenure</th>\n",
       "    </tr>\n",
       "  </thead>\n",
       "  <tbody>\n",
       "    <tr>\n",
       "      <th>0</th>\n",
       "      <td>0</td>\n",
       "      <td>5.03</td>\n",
       "    </tr>\n",
       "    <tr>\n",
       "      <th>1</th>\n",
       "      <td>1</td>\n",
       "      <td>4.93</td>\n",
       "    </tr>\n",
       "  </tbody>\n",
       "</table>\n",
       "</div>"
      ],
      "text/plain": [
       "   Exited  Tenure\n",
       "0       0    5.03\n",
       "1       1    4.93"
      ]
     },
     "execution_count": 104,
     "metadata": {},
     "output_type": "execute_result"
    }
   ],
   "source": [
    "df.groupby('Exited').Tenure.mean().round(2).reset_index()"
   ]
  },
  {
   "cell_type": "markdown",
   "id": "ccf0f27d-7fc2-4733-b079-8b3d7cd00b28",
   "metadata": {},
   "source": [
    "## 🧾 5. Credit and Financial Insights"
   ]
  },
  {
   "cell_type": "markdown",
   "id": "cd2fe475-30bd-4daa-ad5d-021df675ae3c",
   "metadata": {},
   "source": [
    "Q12. Calculate churn rates for customers with:\n",
    "•\tCreditScore < 600\n",
    "•\tCreditScore > 800\n",
    "What do these churn rates indicate?\n"
   ]
  },
  {
   "cell_type": "code",
   "execution_count": 110,
   "id": "39a199d3-db28-4864-a55f-77674b0f05a3",
   "metadata": {},
   "outputs": [
    {
     "name": "stdout",
     "output_type": "stream",
     "text": [
      "Churn rate for customers who has credit score < 600 : 21.75%\n",
      "Churn rate for customers who has credit score > 800 : 19.69%\n"
     ]
    }
   ],
   "source": [
    "cust_cred_lessthan_600 = (df[df.CreditScore < 600].Exited.mean()*100).round(2)\n",
    "cust_cred_greaterthan_800 = (df[df.CreditScore > 800].Exited.mean()*100).round(2)\n",
    "print(f'Churn rate for customers who has credit score < 600 : {cust_cred_lessthan_600:.2f}%')\n",
    "print(f'Churn rate for customers who has credit score > 800 : {cust_cred_greaterthan_800:.2f}%')"
   ]
  },
  {
   "cell_type": "markdown",
   "id": "9ac2a4b8-4296-405f-b51c-f1b81f5c0ab4",
   "metadata": {},
   "source": [
    "Q13. Among customers with a HasCrCard value of 0 and 1, compare the churn rates. Is holding a credit card correlated with retention?"
   ]
  },
  {
   "cell_type": "code",
   "execution_count": 112,
   "id": "d995580c-a24b-4fb6-a7e3-c86d73d414b0",
   "metadata": {},
   "outputs": [
    {
     "data": {
      "text/html": [
       "<div>\n",
       "<style scoped>\n",
       "    .dataframe tbody tr th:only-of-type {\n",
       "        vertical-align: middle;\n",
       "    }\n",
       "\n",
       "    .dataframe tbody tr th {\n",
       "        vertical-align: top;\n",
       "    }\n",
       "\n",
       "    .dataframe thead th {\n",
       "        text-align: right;\n",
       "    }\n",
       "</style>\n",
       "<table border=\"1\" class=\"dataframe\">\n",
       "  <thead>\n",
       "    <tr style=\"text-align: right;\">\n",
       "      <th></th>\n",
       "      <th>HasCrCard</th>\n",
       "      <th>Exited</th>\n",
       "    </tr>\n",
       "  </thead>\n",
       "  <tbody>\n",
       "    <tr>\n",
       "      <th>0</th>\n",
       "      <td>0</td>\n",
       "      <td>20.81</td>\n",
       "    </tr>\n",
       "    <tr>\n",
       "      <th>1</th>\n",
       "      <td>1</td>\n",
       "      <td>20.18</td>\n",
       "    </tr>\n",
       "  </tbody>\n",
       "</table>\n",
       "</div>"
      ],
      "text/plain": [
       "   HasCrCard  Exited\n",
       "0          0   20.81\n",
       "1          1   20.18"
      ]
     },
     "execution_count": 112,
     "metadata": {},
     "output_type": "execute_result"
    }
   ],
   "source": [
    "(df.groupby('HasCrCard').Exited.mean()*100).round(2).reset_index()"
   ]
  },
  {
   "cell_type": "markdown",
   "id": "110aac47-98c5-48a8-8ed0-140627993356",
   "metadata": {},
   "source": [
    "I don't think there is some correlation between holding a credit card and the retention of a customer as churn rate is almost equal."
   ]
  },
  {
   "cell_type": "markdown",
   "id": "581af12e-f4e5-4ce2-8025-f5d42417c5e0",
   "metadata": {},
   "source": [
    "Q14. Create a new column categorizing CreditScore as: 'Low' (<600), 'Medium' (600–800), 'High' (>800). Group by this category and show churn rate."
   ]
  },
  {
   "cell_type": "code",
   "execution_count": 116,
   "id": "aa325b5c-8eca-4a3b-aea7-29830a05821f",
   "metadata": {},
   "outputs": [
    {
     "data": {
      "text/html": [
       "<div>\n",
       "<style scoped>\n",
       "    .dataframe tbody tr th:only-of-type {\n",
       "        vertical-align: middle;\n",
       "    }\n",
       "\n",
       "    .dataframe tbody tr th {\n",
       "        vertical-align: top;\n",
       "    }\n",
       "\n",
       "    .dataframe thead th {\n",
       "        text-align: right;\n",
       "    }\n",
       "</style>\n",
       "<table border=\"1\" class=\"dataframe\">\n",
       "  <thead>\n",
       "    <tr style=\"text-align: right;\">\n",
       "      <th></th>\n",
       "      <th>StrengthOfCreditScore</th>\n",
       "      <th>Exited</th>\n",
       "    </tr>\n",
       "  </thead>\n",
       "  <tbody>\n",
       "    <tr>\n",
       "      <th>0</th>\n",
       "      <td>High</td>\n",
       "      <td>19.54</td>\n",
       "    </tr>\n",
       "    <tr>\n",
       "      <th>1</th>\n",
       "      <td>Low</td>\n",
       "      <td>21.75</td>\n",
       "    </tr>\n",
       "    <tr>\n",
       "      <th>2</th>\n",
       "      <td>Medium</td>\n",
       "      <td>19.79</td>\n",
       "    </tr>\n",
       "  </tbody>\n",
       "</table>\n",
       "</div>"
      ],
      "text/plain": [
       "  StrengthOfCreditScore  Exited\n",
       "0                  High   19.54\n",
       "1                   Low   21.75\n",
       "2                Medium   19.79"
      ]
     },
     "execution_count": 116,
     "metadata": {},
     "output_type": "execute_result"
    }
   ],
   "source": [
    "df['StrengthOfCreditScore'] = df.CreditScore.apply(lambda x: 'Low' if x<600 else ('Medium' if x<800 else 'High'))\n",
    "(df.groupby('StrengthOfCreditScore').Exited.mean()*100).round(2).reset_index()"
   ]
  },
  {
   "cell_type": "markdown",
   "id": "562d0cad-d27a-4c58-9ff7-b192e2e7ef9e",
   "metadata": {},
   "source": [
    "## 📈 6. Engagement and Salary Analysis"
   ]
  },
  {
   "cell_type": "markdown",
   "id": "a99f2911-538a-4aab-aba4-cb8bd8e2430f",
   "metadata": {},
   "source": [
    "Q15. Compare churn rates between active (IsActiveMember = 1) and inactive (IsActiveMember = 0) customers."
   ]
  },
  {
   "cell_type": "code",
   "execution_count": 118,
   "id": "175c0297-78b0-42d3-99d3-3eeb8a915be0",
   "metadata": {},
   "outputs": [
    {
     "data": {
      "text/html": [
       "<div>\n",
       "<style scoped>\n",
       "    .dataframe tbody tr th:only-of-type {\n",
       "        vertical-align: middle;\n",
       "    }\n",
       "\n",
       "    .dataframe tbody tr th {\n",
       "        vertical-align: top;\n",
       "    }\n",
       "\n",
       "    .dataframe thead th {\n",
       "        text-align: right;\n",
       "    }\n",
       "</style>\n",
       "<table border=\"1\" class=\"dataframe\">\n",
       "  <thead>\n",
       "    <tr style=\"text-align: right;\">\n",
       "      <th></th>\n",
       "      <th>IsActiveMember</th>\n",
       "      <th>Exited</th>\n",
       "    </tr>\n",
       "  </thead>\n",
       "  <tbody>\n",
       "    <tr>\n",
       "      <th>0</th>\n",
       "      <td>0</td>\n",
       "      <td>26.85</td>\n",
       "    </tr>\n",
       "    <tr>\n",
       "      <th>1</th>\n",
       "      <td>1</td>\n",
       "      <td>14.27</td>\n",
       "    </tr>\n",
       "  </tbody>\n",
       "</table>\n",
       "</div>"
      ],
      "text/plain": [
       "   IsActiveMember  Exited\n",
       "0               0   26.85\n",
       "1               1   14.27"
      ]
     },
     "execution_count": 118,
     "metadata": {},
     "output_type": "execute_result"
    }
   ],
   "source": [
    "(df.groupby('IsActiveMember').Exited.mean()*100).round(2).reset_index()"
   ]
  },
  {
   "cell_type": "markdown",
   "id": "d45bb7cd-d5d8-43db-8871-a90d32ee3138",
   "metadata": {},
   "source": [
    "Q16. What is the average EstimatedSalary for churned vs non-churned customers? Is salary a clear churn factor?"
   ]
  },
  {
   "cell_type": "code",
   "execution_count": 121,
   "id": "1e001b2b-9896-414c-8f91-dc105528b7ae",
   "metadata": {},
   "outputs": [
    {
     "data": {
      "text/html": [
       "<div>\n",
       "<style scoped>\n",
       "    .dataframe tbody tr th:only-of-type {\n",
       "        vertical-align: middle;\n",
       "    }\n",
       "\n",
       "    .dataframe tbody tr th {\n",
       "        vertical-align: top;\n",
       "    }\n",
       "\n",
       "    .dataframe thead th {\n",
       "        text-align: right;\n",
       "    }\n",
       "</style>\n",
       "<table border=\"1\" class=\"dataframe\">\n",
       "  <thead>\n",
       "    <tr style=\"text-align: right;\">\n",
       "      <th></th>\n",
       "      <th>Exited</th>\n",
       "      <th>EstimatedSalary</th>\n",
       "    </tr>\n",
       "  </thead>\n",
       "  <tbody>\n",
       "    <tr>\n",
       "      <th>0</th>\n",
       "      <td>0</td>\n",
       "      <td>99738.39</td>\n",
       "    </tr>\n",
       "    <tr>\n",
       "      <th>1</th>\n",
       "      <td>1</td>\n",
       "      <td>101465.68</td>\n",
       "    </tr>\n",
       "  </tbody>\n",
       "</table>\n",
       "</div>"
      ],
      "text/plain": [
       "   Exited  EstimatedSalary\n",
       "0       0         99738.39\n",
       "1       1        101465.68"
      ]
     },
     "execution_count": 121,
     "metadata": {},
     "output_type": "execute_result"
    }
   ],
   "source": [
    "df.groupby('Exited').EstimatedSalary.mean().round(2).reset_index()"
   ]
  },
  {
   "cell_type": "markdown",
   "id": "b0396c22-08cb-4e97-b33e-fdb03a924ccd",
   "metadata": {},
   "source": [
    "NO, salary is not a clear churn factor"
   ]
  },
  {
   "cell_type": "markdown",
   "id": "7308cd1a-c0d9-4691-ad78-039e7960cd7e",
   "metadata": {},
   "source": [
    "Q17. Find the top 5 surnames associated with the highest churn counts. What might this indicate?"
   ]
  },
  {
   "cell_type": "code",
   "execution_count": 136,
   "id": "9d8eff14-6ab8-412d-aa5d-06b207c8c679",
   "metadata": {},
   "outputs": [
    {
     "data": {
      "text/html": [
       "<div>\n",
       "<style scoped>\n",
       "    .dataframe tbody tr th:only-of-type {\n",
       "        vertical-align: middle;\n",
       "    }\n",
       "\n",
       "    .dataframe tbody tr th {\n",
       "        vertical-align: top;\n",
       "    }\n",
       "\n",
       "    .dataframe thead th {\n",
       "        text-align: right;\n",
       "    }\n",
       "</style>\n",
       "<table border=\"1\" class=\"dataframe\">\n",
       "  <thead>\n",
       "    <tr style=\"text-align: right;\">\n",
       "      <th></th>\n",
       "      <th>index</th>\n",
       "      <th>Surname</th>\n",
       "    </tr>\n",
       "  </thead>\n",
       "  <tbody>\n",
       "    <tr>\n",
       "      <th>0</th>\n",
       "      <td>Smith</td>\n",
       "      <td>9</td>\n",
       "    </tr>\n",
       "    <tr>\n",
       "      <th>1</th>\n",
       "      <td>Martin</td>\n",
       "      <td>9</td>\n",
       "    </tr>\n",
       "    <tr>\n",
       "      <th>2</th>\n",
       "      <td>McGregor</td>\n",
       "      <td>9</td>\n",
       "    </tr>\n",
       "    <tr>\n",
       "      <th>3</th>\n",
       "      <td>Lin</td>\n",
       "      <td>9</td>\n",
       "    </tr>\n",
       "    <tr>\n",
       "      <th>4</th>\n",
       "      <td>Manna</td>\n",
       "      <td>7</td>\n",
       "    </tr>\n",
       "  </tbody>\n",
       "</table>\n",
       "</div>"
      ],
      "text/plain": [
       "      index  Surname\n",
       "0     Smith        9\n",
       "1    Martin        9\n",
       "2  McGregor        9\n",
       "3       Lin        9\n",
       "4     Manna        7"
      ]
     },
     "execution_count": 136,
     "metadata": {},
     "output_type": "execute_result"
    }
   ],
   "source": [
    "df[df['Exited']==1].Surname.value_counts().nlargest(5).reset_index()"
   ]
  }
 ],
 "metadata": {
  "kernelspec": {
   "display_name": "Python 3 (ipykernel)",
   "language": "python",
   "name": "python3"
  },
  "language_info": {
   "codemirror_mode": {
    "name": "ipython",
    "version": 3
   },
   "file_extension": ".py",
   "mimetype": "text/x-python",
   "name": "python",
   "nbconvert_exporter": "python",
   "pygments_lexer": "ipython3",
   "version": "3.11.0"
  }
 },
 "nbformat": 4,
 "nbformat_minor": 5
}
